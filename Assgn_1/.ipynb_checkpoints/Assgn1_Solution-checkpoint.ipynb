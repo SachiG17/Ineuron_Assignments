{
 "cells": [
  {
   "cell_type": "markdown",
   "metadata": {},
   "source": [
    "Q1. What is the purpose of Python's OOP?\n",
    "\n",
    "\n",
    "\n",
    "Q2. Where does an inheritance search look for an attribute?\n",
    "\n",
    "\n",
    "\n",
    "Q3. How do you distinguish between a class object and an instance object?\n",
    "\n",
    "\n",
    "\n",
    "Q4. What makes the first argument in a class’s method function special?\n",
    "\n",
    "\n",
    "\n",
    "Q5. What is the purpose of the __init__ method?\n",
    "\n",
    "\n",
    "\n",
    "Q6. What is the process for creating a class instance?\n",
    "\n",
    "\n",
    "\n",
    "Q7. What is the process for creating a class?\n",
    "\n",
    "\n",
    "\n",
    "Q8. How would you define the superclasses of a class?\n"
   ]
  }
 ],
 "metadata": {
  "kernelspec": {
   "display_name": "Python 3",
   "language": "python",
   "name": "python3"
  },
  "language_info": {
   "codemirror_mode": {
    "name": "ipython",
    "version": 3
   },
   "file_extension": ".py",
   "mimetype": "text/x-python",
   "name": "python",
   "nbconvert_exporter": "python",
   "pygments_lexer": "ipython3",
   "version": "3.7.1"
  }
 },
 "nbformat": 4,
 "nbformat_minor": 2
}
