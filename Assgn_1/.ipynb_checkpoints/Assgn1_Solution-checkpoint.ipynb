{
 "cells": [
  {
   "cell_type": "markdown",
   "metadata": {},
   "source": [
    "####  Q1. What is the purpose of Python's OOP?In Python,\n",
    "OOPS is technique of programming that organizes program into a collection of reusable objects that interact with each other to offer a solution to given problem.\n",
    "\n",
    "It uses the real world entities such as Inheritence,Polymorphism,encapsulation.\n",
    "\n",
    "It uses objects and class.\n",
    "Object is instance of class,where the object consists of variables(Properties) and Methods(Behaviour).\n",
    "\n",
    "Class is a collection of similar objects,class provides the bluprint to create the similar objects.\n"
   ]
  },
  {
   "cell_type": "code",
   "execution_count": 3,
   "metadata": {},
   "outputs": [
    {
     "name": "stdout",
     "output_type": "stream",
     "text": [
      "Red\n",
      "Bajaj\n"
     ]
    }
   ],
   "source": [
    "class Fan:\n",
    "    color=\"Red\"\n",
    "    brand=\"Bajaj\"\n",
    "    numOfBlades=3\n",
    "    \n",
    "    def On():\n",
    "        print(\"Fan is Starting\")\n",
    "        \n",
    "f1=Fan()\n",
    "print(f1.color)\n",
    "print(f1.brand)"
   ]
  },
  {
   "cell_type": "raw",
   "metadata": {},
   "source": [
    "In the above case,class provides to create the object.\n",
    "the objects has the method On(behaviour) and variables(Properties) such as color,brand,numOfBlades.\n",
    "\n",
    "and f1 is the object where the Fan class is called.\n",
    "\n",
    "\n",
    "The concepts in the OOPS are:\n",
    "\n",
    "1.Inheritence\n",
    "2.Data Abstraction\n",
    "3.Inheritence\n",
    "4.Encapsulation\n",
    "\n",
    "\n",
    "1.Inheritance\n",
    "\n",
    "Inheritence is the concept where one class derives the properties from other class.The class which the derives the peroperties is called Child Class and the class which properties are derived is called Parent Class.\n",
    "\n",
    "2.Data Abstraction\n",
    "\n",
    "Data Abstraction is the concept where the internal details such as Code Implementation are hid from the user.\n",
    "\n",
    "4.Polymprphism\n",
    "\n",
    "Polymorphism is the concept which menas the many forms by which we can understand that one task can be performed in many ways.\n",
    "\n",
    "4.Encapsulation\n",
    "\n",
    "It describes the idea of wrapping data and the methods that work on data within one unit. This puts restrictions on accessing variables and methods directly and can prevent the accidental modification of data.\n"
   ]
  },
  {
   "cell_type": "markdown",
   "metadata": {},
   "source": [
    "####  Q2. Where does an inheritance search look for an attribute?"
   ]
  },
  {
   "cell_type": "markdown",
   "metadata": {},
   "source": [
    "The Inheritence search looks for an attribute first in the Instance Object,then moves to the class where the instance object was created from,if not found will move to its superclass.The search will stop when the first attribute is found."
   ]
  },
  {
   "cell_type": "markdown",
   "metadata": {},
   "source": [
    "#### Q3. How do you distinguish between a class object and an instance object?"
   ]
  },
  {
   "cell_type": "markdown",
   "metadata": {},
   "source": [
    "The class object is an instance of the class,where as instance object is the seperate object created by calling the class.\n",
    "\n",
    "class employee:\n",
    "    def __init__(self,name,salary):\n",
    "        self.name=name\n",
    "        self.sal=salary\n",
    "        \n",
    "emp1=employee(\"sachin\",100)\n",
    "\n",
    "here in the above code we can see that employee is class object.\n",
    "where as emp1 is a instance object.\n",
    "\n",
    "we can see the difference by checking the type of the class object and instance object below.\n",
    "\n",
    "using the class object we can create many instance objects.\n",
    "where as instance object is the object created by calling the class."
   ]
  },
  {
   "cell_type": "code",
   "execution_count": 1,
   "metadata": {},
   "outputs": [
    {
     "name": "stdout",
     "output_type": "stream",
     "text": [
      "<class 'type'>\n",
      "<__main__.employee object at 0x00000272F2D85990>\n"
     ]
    }
   ],
   "source": [
    "class employee:\n",
    "    def __init__(self,name,salary):\n",
    "        self.name=name\n",
    "        self.sal=salary\n",
    "        \n",
    "emp1=employee(\"sachin\",100)\n",
    "print(type(employee))\n",
    "print(emp1)"
   ]
  },
  {
   "cell_type": "markdown",
   "metadata": {},
   "source": [
    "#### Q4. What makes the first argument in a class’s method function special?\n",
    "\n",
    "The first argument in a method of a class in Python is special because it refers to the instance of the class on which the method is called and  named as \"self\". This argument allows the method to access and modify the attributes and behavior of the specific instance, making it possible for methods to have a different behavior for each instance of a class."
   ]
  },
  {
   "cell_type": "markdown",
   "metadata": {},
   "source": [
    "#### Q5. What is the purpose of the __init__ method?"
   ]
  },
  {
   "cell_type": "markdown",
   "metadata": {},
   "source": [
    "__init__ is a reserved method in the python.It is a constructor this function is called automatically every time the class is being used to create a new object.\n",
    "\n",
    "when the object is created the execution goes to class __init__ function,after executing the function the memory is allocated for all variables,then the address of the objected is returned.\n",
    "\n",
    "\n",
    "class Fan:\n",
    "    def __init__(self,color,brand):\n",
    "        self.color=color\n",
    "        self.brand=brand\n",
    "       \n",
    "f1=Fan(\"Black\",\"Usha\")\n",
    "\n",
    "print(f1.color)"
   ]
  },
  {
   "cell_type": "code",
   "execution_count": 2,
   "metadata": {},
   "outputs": [
    {
     "name": "stdout",
     "output_type": "stream",
     "text": [
      "Black\n"
     ]
    }
   ],
   "source": [
    "class Fan:\n",
    "    def __init__(self,color,brand):\n",
    "        self.color=color\n",
    "        self.brand=brand\n",
    "       \n",
    "f1=Fan(\"Black\",\"Usha\")\n",
    "\n",
    "print(f1.color)"
   ]
  },
  {
   "cell_type": "markdown",
   "metadata": {},
   "source": [
    "####  Q6. What is the process for creating a class instance?"
   ]
  },
  {
   "cell_type": "markdown",
   "metadata": {},
   "source": [
    "Creating a instance of class involves:\n",
    "1.first we need to create the class,where the class accepts the arguments in its init method.\n",
    "2.In order to create the instance of the class, we need to class name along with the arguments which init method accepts.\n",
    "\n",
    "class employee:\n",
    "    def __init__(self,name,sal):\n",
    "        self.name=name\n",
    "        self.sal=sal\n",
    "        \n",
    "emp1=employee(\"sachin\",100)\n",
    "print(emp1.name)\n",
    "print(emp1.sal)\n",
    "\n",
    "In the above example we can see that employee is a class which accepts arguments such as name and salary.\n",
    "\n",
    "instance of the class is created by calling the class name along with the arguments which the init method accepts.\n",
    "\n",
    "emp1=employee(\"sachin\",100)\n",
    "\n",
    "and we can fetch the values by instancename followed by . and variable.\n",
    "\n",
    "print(emp1.name)"
   ]
  },
  {
   "cell_type": "code",
   "execution_count": 3,
   "metadata": {},
   "outputs": [
    {
     "name": "stdout",
     "output_type": "stream",
     "text": [
      "sachin\n",
      "100\n"
     ]
    }
   ],
   "source": [
    "class employee:\n",
    "    def __init__(self,name,salary):\n",
    "        self.name=name\n",
    "        self.sal=salary\n",
    "        \n",
    "emp1=employee(\"sachin\",100)\n",
    "print(emp1.name)\n",
    "print(emp1.sal)"
   ]
  },
  {
   "cell_type": "markdown",
   "metadata": {},
   "source": [
    "#### Q7. What is the process for creating a class?"
   ]
  },
  {
   "cell_type": "markdown",
   "metadata": {},
   "source": [
    "The Process of creating the class:\n",
    "\n",
    "create the class by defining class name preceeded with class keyword followed by \":\".\n",
    "\n",
    "class Person:\n",
    "\n",
    "then call the __init__ method,where the init is reserved method in the python it is a constructor it is used to initialize the attributes.\n",
    "\n",
    "def __init__(self,name,age):\n",
    "    self.name=name\n",
    "    self.age=age\n",
    "(self is a instance of class using self we can acess the attributes and methods of class) \n",
    "\n",
    "Therefore,\n",
    "\n",
    "class Person:\n",
    "    def __init__(self,name,age):\n",
    "            self.name=name\n",
    "            self.age=age\n",
    "           \n",
    "p1=person(\"sachin\",25)\n",
    "\n",
    "print(p1.name)\n",
    "print(p1.age)"
   ]
  },
  {
   "cell_type": "code",
   "execution_count": 4,
   "metadata": {},
   "outputs": [
    {
     "name": "stdout",
     "output_type": "stream",
     "text": [
      "sachin\n",
      "25\n"
     ]
    }
   ],
   "source": [
    "class person:\n",
    "    def __init__(self,name,age):\n",
    "            self.name=name\n",
    "            self.age=age\n",
    "           \n",
    "p1=person(\"sachin\",25)\n",
    "\n",
    "print(p1.name)\n",
    "print(p1.age)"
   ]
  },
  {
   "cell_type": "markdown",
   "metadata": {},
   "source": [
    "#### 8.How would you define the superclasses of a class? "
   ]
  },
  {
   "cell_type": "raw",
   "metadata": {},
   "source": [
    "A Superclass is a class from which many child classes are created.The Subclasses inherit the characteristics of super class.\n",
    "In the Following program,\n",
    "Person is the Superclass and Student is the Child class.The student class inherit the properties such as name,age from the Person Class.\n",
    "\n",
    "In order to declare the child class the we need to mention the parent class along with it.\n",
    "\n",
    "#class Student(Person):\n",
    "\n",
    "and In order to inherit the properties we need to mention the Super init method\n",
    "\n",
    "#super().__init__(name,age)\n",
    "Here the variables such as name and age are derived from the parent class which are not declared in the child class.ING \n",
    "\n",
    "along with it the display method of parent class is derived by child class."
   ]
  },
  {
   "cell_type": "code",
   "execution_count": 5,
   "metadata": {},
   "outputs": [
    {
     "name": "stdout",
     "output_type": "stream",
     "text": [
      "Ineuron\n",
      "Student is reading\n"
     ]
    }
   ],
   "source": [
    "class Person:\n",
    "    def __init__(self,name,age):\n",
    "        self.name=name\n",
    "        self.age=age\n",
    "    def display(self):\n",
    "        print(\"Person is watching\")\n",
    "\n",
    "class Student(Person):\n",
    "    def __init__(self,name,age,sid,college):\n",
    "        super().__init__(name,age)\n",
    "        self.sid=sid\n",
    "        self.college=college\n",
    "    def read(self):\n",
    "        print(\"Student is reading\")\n",
    "p=Person(\"Sachin\",25)\n",
    "\n",
    "\n",
    "s=Student(\"Sachin\",25,789,\"Ineuron\")\n",
    "print(s.college)\n",
    "s.read()\n"
   ]
  }
 ],
 "metadata": {
  "kernelspec": {
   "display_name": "Python 3 (ipykernel)",
   "language": "python",
   "name": "python3"
  },
  "language_info": {
   "codemirror_mode": {
    "name": "ipython",
    "version": 3
   },
   "file_extension": ".py",
   "mimetype": "text/x-python",
   "name": "python",
   "nbconvert_exporter": "python",
   "pygments_lexer": "ipython3",
   "version": "3.9.13"
  },
  "vscode": {
   "interpreter": {
    "hash": "ecf67e29ec76fb681bb82b1ecad79b881f2d5ffa4c1606a7c62ffbc37e05f583"
   }
  }
 },
 "nbformat": 4,
 "nbformat_minor": 2
}
